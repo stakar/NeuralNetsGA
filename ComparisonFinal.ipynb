{
 "cells": [
  {
   "cell_type": "markdown",
   "metadata": {},
   "source": [
    "# Genetic Algorithm evolving Neural Net\n",
    "\n",
    "This notebook presents the performance of genetic algorithm that aims in evolving neural net's weights.\n",
    "\n",
    "This neural net is trained to recognize the pictures containing plus symbol.\n",
    "\n",
    "## Dataset\n",
    "\n",
    "Firstly, we need to prepare dataset. It consists of 2000 pictures, half of which are target cases, and second half is noise.\n"
   ]
  },
  {
   "cell_type": "code",
   "execution_count": 2,
   "metadata": {},
   "outputs": [
    {
     "name": "stdout",
     "output_type": "stream",
     "text": [
      "This is how the training data looks like\n"
     ]
    },
    {
     "data": {
      "image/png": "[encoded data removed]",
      "text/plain": [
       "<Figure size 432x288 with 4 Axes>"
      ]
     },
     "metadata": {},
     "output_type": "display_data"
    }
   ],
   "source": [
    "from gannarch import *\n",
    "from gannarchv2 import *\n",
    "from gannarchv3 import *\n",
    "from gannarchv4 import *\n",
    "from gann import *\n",
    "\n",
    "\n",
    "import numpy as np\n",
    "import pandas as pd\n",
    "import matplotlib.pyplot as plt\n",
    "\n",
    "from sklearn.model_selection import train_test_split\n",
    "\n",
    "%matplotlib inline\n",
    "\n",
    "rin = np.random.randint\n",
    "ran = np.random.random\n",
    "\n",
    "n_cases = 1000\n",
    "height = 4\n",
    "width = 4\n",
    "placeholders_target = np.zeros((n_cases,height,width))\n",
    "placeholders_noise = np.zeros((n_cases,height,width))\n",
    "\n",
    "placeholders_target = np.array([create_instance(placeholders_target[n],1) \n",
    "                                     for n in range(n_cases)])\n",
    "placeholders_noise = np.array([create_random_inst(placeholders_noise[n]) \n",
    "                                     for n in range(n_cases)])\n",
    "\n",
    "target = [[1,0] for n in range(n_cases)]\n",
    "noise = [[0,1] for n in range(n_cases)]\n",
    "\n",
    "dataset = np.vstack([placeholders_target,placeholders_noise])\n",
    "\n",
    "print('This is how the training data looks like')\n",
    "\n",
    "for row,n in zip(range(1,5),range(n_cases-2,n_cases+2)):\n",
    "    \n",
    "    plt.subplot(2,2,row)\n",
    "    plt.imshow(dataset[n],cmap='gray')\n",
    "    plt.xticks([])\n",
    "    plt.yticks([])\n",
    "plt.show()\n",
    "\n",
    "# Turining into feture-like array\n",
    "\n",
    "target = np.vstack([target,noise])\n",
    "dataset = dataset.reshape((n_cases*2,height*width)) \n",
    "\n"
   ]
  },
  {
   "cell_type": "markdown",
   "metadata": {},
   "source": [
    "## Setting parameters\n",
    "\n",
    "I am checking which initial number of population provides best results."
   ]
  },
  {
   "cell_type": "code",
   "execution_count": 2,
   "metadata": {},
   "outputs": [
    {
     "data": {
      "text/html": [
       "<div>\n",
       "<style scoped>\n",
       "    .dataframe tbody tr th:only-of-type {\n",
       "        vertical-align: middle;\n",
       "    }\n",
       "\n",
       "    .dataframe tbody tr th {\n",
       "        vertical-align: top;\n",
       "    }\n",
       "\n",
       "    .dataframe thead th {\n",
       "        text-align: right;\n",
       "    }\n",
       "</style>\n",
       "<table border=\"1\" class=\"dataframe\">\n",
       "  <thead>\n",
       "    <tr style=\"text-align: right;\">\n",
       "      <th></th>\n",
       "      <th>Accuracy on test</th>\n",
       "      <th>Accuracy validate</th>\n",
       "    </tr>\n",
       "  </thead>\n",
       "  <tbody>\n",
       "    <tr>\n",
       "      <th>100</th>\n",
       "      <td>79.68</td>\n",
       "      <td>79.10</td>\n",
       "    </tr>\n",
       "    <tr>\n",
       "      <th>200</th>\n",
       "      <td>80.24</td>\n",
       "      <td>80.19</td>\n",
       "    </tr>\n",
       "    <tr>\n",
       "      <th>300</th>\n",
       "      <td>80.11</td>\n",
       "      <td>78.87</td>\n",
       "    </tr>\n",
       "    <tr>\n",
       "      <th>400</th>\n",
       "      <td>80.39</td>\n",
       "      <td>80.55</td>\n",
       "    </tr>\n",
       "    <tr>\n",
       "      <th>500</th>\n",
       "      <td>80.76</td>\n",
       "      <td>79.73</td>\n",
       "    </tr>\n",
       "    <tr>\n",
       "      <th>600</th>\n",
       "      <td>80.57</td>\n",
       "      <td>80.31</td>\n",
       "    </tr>\n",
       "    <tr>\n",
       "      <th>700</th>\n",
       "      <td>81.09</td>\n",
       "      <td>82.72</td>\n",
       "    </tr>\n",
       "    <tr>\n",
       "      <th>800</th>\n",
       "      <td>80.86</td>\n",
       "      <td>81.60</td>\n",
       "    </tr>\n",
       "    <tr>\n",
       "      <th>900</th>\n",
       "      <td>80.25</td>\n",
       "      <td>79.73</td>\n",
       "    </tr>\n",
       "  </tbody>\n",
       "</table>\n",
       "</div>"
      ],
      "text/plain": [
       "     Accuracy on test  Accuracy validate\n",
       "100             79.68              79.10\n",
       "200             80.24              80.19\n",
       "300             80.11              78.87\n",
       "400             80.39              80.55\n",
       "500             80.76              79.73\n",
       "600             80.57              80.31\n",
       "700             81.09              82.72\n",
       "800             80.86              81.60\n",
       "900             80.25              79.73"
      ]
     },
     "execution_count": 2,
     "metadata": {},
     "output_type": "execute_result"
    }
   ],
   "source": [
    "results = dict()\n",
    "for n in range(1,10):\n",
    "    n = n * 100\n",
    "    ga = GenAlWeightsNN(n_pop=n,max_gen=50)\n",
    "    ga.fit(dataset,target)\n",
    "    ga.transform()\n",
    "    results[str(n)] = (ga.best_ind,ga.validate())\n",
    "    \n",
    "result_dict = pd.DataFrame(index = results.keys())\n",
    "result_dict['Accuracy on test'] = [round(n[0]*100,2) for n in results.values()]\n",
    "result_dict['Accuracy validate'] = [round(n[1],2) for n in results.values()]\n",
    "result_dict"
   ]
  },
  {
   "cell_type": "markdown",
   "metadata": {},
   "source": [
    "# The performance of algorithm\n",
    "\n",
    "After testing some paramters I have found the fine parameters that allows for achieving best results. In purpose of maximazing the search space I used 1000 initial population."
   ]
  },
  {
   "cell_type": "code",
   "execution_count": 4,
   "metadata": {},
   "outputs": [],
   "source": [
    "N_POP = 1000\n",
    "MAX_GEN = 200\n",
    "DES_FIT = 0.95"
   ]
  },
  {
   "cell_type": "markdown",
   "metadata": {},
   "source": [
    "# First implementation\n",
    "\n",
    "The first version of algorithm was changing only the weights of neurons in neural net."
   ]
  },
  {
   "cell_type": "code",
   "execution_count": 5,
   "metadata": {},
   "outputs": [
    {
     "data": {
      "image/png": "[encoded data removed]",
      "text/plain": [
       "<Figure size 432x288 with 1 Axes>"
      ]
     },
     "metadata": {
      "needs_background": "light"
     },
     "output_type": "display_data"
    },
    {
     "name": "stdout",
     "output_type": "stream",
     "text": [
      "Achieved accuracy:87.53\n",
      "Achieved accuracy on validate dataset:87.36\n"
     ]
    }
   ],
   "source": [
    "ga = GenAlWeightsNN(n_pop=N_POP,max_gen=MAX_GEN,desired_fit=DES_FIT)\n",
    "ga.fit(dataset,target)\n",
    "ga.transform()\n",
    "ga.plot_fitness()\n",
    "print('Achieved accuracy:{}'.format(round(ga.best_ind*100,2)))\n",
    "print('Achieved accuracy on validate dataset:{}'.format(\n",
    "    round(ga.validate(),2)))\n"
   ]
  },
  {
   "cell_type": "markdown",
   "metadata": {},
   "source": [
    "# Second implementation - algorithm evolving architecture\n",
    "\n",
    "Second version of algorithm was changing not only the weights, but also an architecture of neural net, cutting near-0 weights, and adding new ones to the layers, with probability 0.01"
   ]
  },
  {
   "cell_type": "code",
   "execution_count": 32,
   "metadata": {},
   "outputs": [
    {
     "data": {
      "image/png": "[encoded data removed]",
      "text/plain": [
       "<Figure size 432x288 with 1 Axes>"
      ]
     },
     "metadata": {
      "needs_background": "light"
     },
     "output_type": "display_data"
    },
    {
     "name": "stdout",
     "output_type": "stream",
     "text": [
      "Achieved accuracy:92.94\n",
      "Achieved accuracy on validate dataset:92.27\n"
     ]
    }
   ],
   "source": [
    "ga = GenAlArchNN(n_pop=N_POP,max_gen=MAX_GEN,desired_fit=DES_FIT)\n",
    "ga.fit(dataset,target)\n",
    "ga.transform()\n",
    "ga.plot_fitness()\n",
    "print('Achieved accuracy:{}'.format(round(ga.best_ind*100,2)))\n",
    "print('Achieved accuracy on validate dataset:{}'.format(\n",
    "    round(ga.validate(),2)))\n"
   ]
  },
  {
   "cell_type": "markdown",
   "metadata": {},
   "source": [
    "# Developing second implementation - version 2\n",
    "\n",
    "THis is same algorithm as previous, but this time the mechanism of random number of neurons in layer was implemented."
   ]
  },
  {
   "cell_type": "code",
   "execution_count": 33,
   "metadata": {},
   "outputs": [
    {
     "data": {
      "image/png": "[encoded data removed]",
      "text/plain": [
       "<Figure size 432x288 with 1 Axes>"
      ]
     },
     "metadata": {
      "needs_background": "light"
     },
     "output_type": "display_data"
    },
    {
     "name": "stdout",
     "output_type": "stream",
     "text": [
      "Achieved accuracy:91.34\n",
      "Achieved accuracy on validate dataset:90.27\n"
     ]
    }
   ],
   "source": [
    "ga = GenAlArchNNv2(n_pop=N_POP,max_gen=MAX_GEN,desired_fit=DES_FIT)\n",
    "ga.fit(dataset,target)\n",
    "ga.max_gen = 200\n",
    "ga.transform()\n",
    "ga.plot_fitness()\n",
    "print('Achieved accuracy:{}'.format(round(ga.best_ind*100,2)))\n",
    "print('Achieved accuracy on validate dataset:{}'.format(\n",
    "    round(ga.validate(),2)))\n"
   ]
  },
  {
   "cell_type": "markdown",
   "metadata": {},
   "source": [
    "# Developing second implementation - version 3\n",
    "\n",
    "Third version did not used random initiation, but instead it was taking a parameter n_hid, giving possibility of searching for best number of neurons in layer."
   ]
  },
  {
   "cell_type": "code",
   "execution_count": 6,
   "metadata": {},
   "outputs": [
    {
     "data": {
      "text/html": [
       "<div>\n",
       "<style scoped>\n",
       "    .dataframe tbody tr th:only-of-type {\n",
       "        vertical-align: middle;\n",
       "    }\n",
       "\n",
       "    .dataframe tbody tr th {\n",
       "        vertical-align: top;\n",
       "    }\n",
       "\n",
       "    .dataframe thead th {\n",
       "        text-align: right;\n",
       "    }\n",
       "</style>\n",
       "<table border=\"1\" class=\"dataframe\">\n",
       "  <thead>\n",
       "    <tr style=\"text-align: right;\">\n",
       "      <th></th>\n",
       "      <th>Accuracy on test</th>\n",
       "      <th>Accuracy validate</th>\n",
       "    </tr>\n",
       "  </thead>\n",
       "  <tbody>\n",
       "    <tr>\n",
       "      <th>5</th>\n",
       "      <td>76.38</td>\n",
       "      <td>77.07</td>\n",
       "    </tr>\n",
       "    <tr>\n",
       "      <th>6</th>\n",
       "      <td>77.91</td>\n",
       "      <td>77.79</td>\n",
       "    </tr>\n",
       "    <tr>\n",
       "      <th>7</th>\n",
       "      <td>72.59</td>\n",
       "      <td>73.20</td>\n",
       "    </tr>\n",
       "    <tr>\n",
       "      <th>8</th>\n",
       "      <td>80.63</td>\n",
       "      <td>79.47</td>\n",
       "    </tr>\n",
       "    <tr>\n",
       "      <th>9</th>\n",
       "      <td>68.32</td>\n",
       "      <td>67.27</td>\n",
       "    </tr>\n",
       "    <tr>\n",
       "      <th>10</th>\n",
       "      <td>74.02</td>\n",
       "      <td>75.29</td>\n",
       "    </tr>\n",
       "    <tr>\n",
       "      <th>11</th>\n",
       "      <td>77.69</td>\n",
       "      <td>78.99</td>\n",
       "    </tr>\n",
       "    <tr>\n",
       "      <th>12</th>\n",
       "      <td>66.81</td>\n",
       "      <td>64.91</td>\n",
       "    </tr>\n",
       "    <tr>\n",
       "      <th>13</th>\n",
       "      <td>78.65</td>\n",
       "      <td>78.96</td>\n",
       "    </tr>\n",
       "    <tr>\n",
       "      <th>14</th>\n",
       "      <td>78.39</td>\n",
       "      <td>77.66</td>\n",
       "    </tr>\n",
       "  </tbody>\n",
       "</table>\n",
       "</div>"
      ],
      "text/plain": [
       "    Accuracy on test  Accuracy validate\n",
       "5              76.38              77.07\n",
       "6              77.91              77.79\n",
       "7              72.59              73.20\n",
       "8              80.63              79.47\n",
       "9              68.32              67.27\n",
       "10             74.02              75.29\n",
       "11             77.69              78.99\n",
       "12             66.81              64.91\n",
       "13             78.65              78.96\n",
       "14             78.39              77.66"
      ]
     },
     "execution_count": 6,
     "metadata": {},
     "output_type": "execute_result"
    }
   ],
   "source": [
    "results = dict()\n",
    "for n in range(5,15):\n",
    "    ga = GenAlArchNNv3(n_pop=100,n_hid=n,max_gen=50)\n",
    "    ga.fit(dataset,target)\n",
    "    ga.transform()\n",
    "    results[str(n)] = (ga.best_ind,ga.validate())\n",
    "    \n",
    "result_dict = pd.DataFrame(index = results.keys())\n",
    "result_dict['Accuracy on test'] = [round(n[0]*100,2) for n in results.values()]\n",
    "result_dict['Accuracy validate'] = [round(n[1],2) for n in results.values()]\n",
    "result_dict    "
   ]
  },
  {
   "cell_type": "code",
   "execution_count": 34,
   "metadata": {},
   "outputs": [
    {
     "data": {
      "image/png": "[encoded data removed]",
      "text/plain": [
       "<Figure size 432x288 with 1 Axes>"
      ]
     },
     "metadata": {
      "needs_background": "light"
     },
     "output_type": "display_data"
    },
    {
     "name": "stdout",
     "output_type": "stream",
     "text": [
      "Achieved accuracy:94.51\n",
      "Achieved accuracy on validate dataset:90.57\n"
     ]
    }
   ],
   "source": [
    "ga = GenAlArchNNv3(n_pop=N_POP,max_gen=MAX_GEN,desired_fit=DES_FIT,n_hid = 8)\n",
    "ga.fit(dataset,target)\n",
    "ga.max_gen = 200\n",
    "ga.transform()\n",
    "ga.plot_fitness()\n",
    "print('Achieved accuracy:{}'.format(round(ga.best_ind*100,2)))\n",
    "print('Achieved accuracy on validate dataset:{}'.format(\n",
    "    round(ga.validate(),2)))\n"
   ]
  },
  {
   "cell_type": "markdown",
   "metadata": {},
   "source": [
    "# Last version of algorithm\n",
    "\n",
    "This is actually the last implementation, that works just like previous version, the only change is that it uses uniform function, not random, when it comes to weights."
   ]
  },
  {
   "cell_type": "code",
   "execution_count": 7,
   "metadata": {},
   "outputs": [
    {
     "data": {
      "text/html": [
       "<div>\n",
       "<style scoped>\n",
       "    .dataframe tbody tr th:only-of-type {\n",
       "        vertical-align: middle;\n",
       "    }\n",
       "\n",
       "    .dataframe tbody tr th {\n",
       "        vertical-align: top;\n",
       "    }\n",
       "\n",
       "    .dataframe thead th {\n",
       "        text-align: right;\n",
       "    }\n",
       "</style>\n",
       "<table border=\"1\" class=\"dataframe\">\n",
       "  <thead>\n",
       "    <tr style=\"text-align: right;\">\n",
       "      <th></th>\n",
       "      <th>Accuracy on test</th>\n",
       "      <th>Accuracy validate</th>\n",
       "    </tr>\n",
       "  </thead>\n",
       "  <tbody>\n",
       "    <tr>\n",
       "      <th>5</th>\n",
       "      <td>74.20</td>\n",
       "      <td>72.86</td>\n",
       "    </tr>\n",
       "    <tr>\n",
       "      <th>6</th>\n",
       "      <td>71.35</td>\n",
       "      <td>70.55</td>\n",
       "    </tr>\n",
       "    <tr>\n",
       "      <th>7</th>\n",
       "      <td>73.75</td>\n",
       "      <td>73.01</td>\n",
       "    </tr>\n",
       "    <tr>\n",
       "      <th>8</th>\n",
       "      <td>79.35</td>\n",
       "      <td>78.21</td>\n",
       "    </tr>\n",
       "    <tr>\n",
       "      <th>9</th>\n",
       "      <td>69.51</td>\n",
       "      <td>70.47</td>\n",
       "    </tr>\n",
       "    <tr>\n",
       "      <th>10</th>\n",
       "      <td>80.51</td>\n",
       "      <td>80.30</td>\n",
       "    </tr>\n",
       "    <tr>\n",
       "      <th>11</th>\n",
       "      <td>75.82</td>\n",
       "      <td>74.82</td>\n",
       "    </tr>\n",
       "    <tr>\n",
       "      <th>12</th>\n",
       "      <td>80.15</td>\n",
       "      <td>79.70</td>\n",
       "    </tr>\n",
       "    <tr>\n",
       "      <th>13</th>\n",
       "      <td>66.91</td>\n",
       "      <td>66.62</td>\n",
       "    </tr>\n",
       "    <tr>\n",
       "      <th>14</th>\n",
       "      <td>69.87</td>\n",
       "      <td>69.30</td>\n",
       "    </tr>\n",
       "  </tbody>\n",
       "</table>\n",
       "</div>"
      ],
      "text/plain": [
       "    Accuracy on test  Accuracy validate\n",
       "5              74.20              72.86\n",
       "6              71.35              70.55\n",
       "7              73.75              73.01\n",
       "8              79.35              78.21\n",
       "9              69.51              70.47\n",
       "10             80.51              80.30\n",
       "11             75.82              74.82\n",
       "12             80.15              79.70\n",
       "13             66.91              66.62\n",
       "14             69.87              69.30"
      ]
     },
     "execution_count": 7,
     "metadata": {},
     "output_type": "execute_result"
    }
   ],
   "source": [
    "results = dict()\n",
    "for n in range(5,15):\n",
    "    ga = GenAlArchNNv4(n_pop=100,n_hid=n,max_gen=50)\n",
    "    ga.fit(dataset,target)\n",
    "    ga.transform()\n",
    "    results[str(n)] = (ga.best_ind,ga.validate())\n",
    "    \n",
    "result_dict = pd.DataFrame(index = results.keys())\n",
    "result_dict['Accuracy on test'] = [round(n[0]*100,2) for n in results.values()]\n",
    "result_dict['Accuracy validate'] = [round(n[1],2) for n in results.values()]\n",
    "result_dict   "
   ]
  },
  {
   "cell_type": "code",
   "execution_count": 11,
   "metadata": {},
   "outputs": [
    {
     "name": "stdout",
     "output_type": "stream",
     "text": [
      "Achieved accuracy:86.51\n",
      "Achieved accuracy on validate dataset:86.59\n"
     ]
    },
    {
     "data": {
      "image/png": "[encoded data removed]",
      "text/plain": [
       "<Figure size 432x288 with 1 Axes>"
      ]
     },
     "metadata": {
      "needs_background": "light"
     },
     "output_type": "display_data"
    }
   ],
   "source": [
    "ga = GenAlArchNNv4(n_pop=N_POP,max_gen=200,desired_fit=DES_FIT,n_hid = 10)\n",
    "ga.fit(dataset,target)\n",
    "ga.transform()\n",
    "ga.plot_fitness()\n",
    "\n",
    "print('Achieved accuracy:{}'.format(round(ga.best_ind*100,2)))\n",
    "print('Achieved accuracy on validate dataset:{}'.format(\n",
    "    round(ga.validate(),2)))"
   ]
  },
  {
   "cell_type": "markdown",
   "metadata": {},
   "source": [
    "## Summary\n",
    "\n",
    "Achieved accuracy was 94%, which is satysfying result. \n",
    "\n",
    "\n",
    "### References\n",
    "\n",
    "Above implementation used a parts of numpy-based neural net taken from: \n",
    "\n",
    "https://www.kaggle.com/niyipop/2-layer-neural-network-from-scratch-using-numpy/data/\n",
    "\n",
    "Genetic algorithm originates from:\n",
    "\n",
    "https://github.com/stakar/Sig_Feat_Selector"
   ]
  }
 ],
 "metadata": {
  "kernelspec": {
   "display_name": "Python 3",
   "language": "python",
   "name": "python3"
  },
  "language_info": {
   "codemirror_mode": {
    "name": "ipython",
    "version": 3
   },
   "file_extension": ".py",
   "mimetype": "text/x-python",
   "name": "python",
   "nbconvert_exporter": "python",
   "pygments_lexer": "ipython3",
   "version": "3.7.3"
  }
 },
 "nbformat": 4,
 "nbformat_minor": 2
}
